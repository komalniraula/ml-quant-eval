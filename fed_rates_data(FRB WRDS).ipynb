{
 "cells": [
  {
   "cell_type": "code",
   "execution_count": 1,
   "id": "b914a3c2-477c-411f-9223-326bb461aed3",
   "metadata": {},
   "outputs": [],
   "source": [
    "import pandas as pd\n",
    "import numpy as np\n",
    "import wrds"
   ]
  },
  {
   "cell_type": "code",
   "execution_count": 2,
   "id": "d73916b7-a635-4b21-835f-1a1e83901536",
   "metadata": {},
   "outputs": [
    {
     "name": "stdin",
     "output_type": "stream",
     "text": [
      "Enter your WRDS username [komalniraula]: kn2505\n",
      "Enter your password: ········\n"
     ]
    },
    {
     "name": "stdout",
     "output_type": "stream",
     "text": [
      "WRDS recommends setting up a .pgpass file.\n"
     ]
    },
    {
     "name": "stdin",
     "output_type": "stream",
     "text": [
      "Create .pgpass file now [y/n]?:  n\n"
     ]
    },
    {
     "name": "stdout",
     "output_type": "stream",
     "text": [
      "You can create this file yourself at any time with the create_pgpass_file() function.\n",
      "Loading library list...\n",
      "Done\n"
     ]
    }
   ],
   "source": [
    "conn = wrds.Connection()"
   ]
  },
  {
   "cell_type": "code",
   "execution_count": 3,
   "id": "3c447b29-d88b-431c-8d86-4c17ee4759a6",
   "metadata": {},
   "outputs": [
    {
     "name": "stdout",
     "output_type": "stream",
     "text": [
      "Loading 1970 (1/55)...\n",
      "Loading 1971 (2/55)...\n",
      "Loading 1972 (3/55)...\n",
      "Loading 1973 (4/55)...\n",
      "Loading 1974 (5/55)...\n",
      "Loading 1975 (6/55)...\n",
      "Loading 1976 (7/55)...\n",
      "Loading 1977 (8/55)...\n",
      "Loading 1978 (9/55)...\n",
      "Loading 1979 (10/55)...\n",
      "Loading 1980 (11/55)...\n",
      "Loading 1981 (12/55)...\n",
      "Loading 1982 (13/55)...\n",
      "Loading 1983 (14/55)...\n",
      "Loading 1984 (15/55)...\n",
      "Loading 1985 (16/55)...\n",
      "Loading 1986 (17/55)...\n",
      "Loading 1987 (18/55)...\n",
      "Loading 1988 (19/55)...\n",
      "Loading 1989 (20/55)...\n",
      "Loading 1990 (21/55)...\n",
      "Loading 1991 (22/55)...\n",
      "Loading 1992 (23/55)...\n",
      "Loading 1993 (24/55)...\n",
      "Loading 1994 (25/55)...\n",
      "Loading 1995 (26/55)...\n",
      "Loading 1996 (27/55)...\n",
      "Loading 1997 (28/55)...\n",
      "Loading 1998 (29/55)...\n",
      "Loading 1999 (30/55)...\n",
      "Loading 2000 (31/55)...\n",
      "Loading 2001 (32/55)...\n",
      "Loading 2002 (33/55)...\n",
      "Loading 2003 (34/55)...\n",
      "Loading 2004 (35/55)...\n",
      "Loading 2005 (36/55)...\n",
      "Loading 2006 (37/55)...\n",
      "Loading 2007 (38/55)...\n",
      "Loading 2008 (39/55)...\n",
      "Loading 2009 (40/55)...\n",
      "Loading 2010 (41/55)...\n",
      "Loading 2011 (42/55)...\n",
      "Loading 2012 (43/55)...\n",
      "Loading 2013 (44/55)...\n",
      "Loading 2014 (45/55)...\n",
      "Loading 2015 (46/55)...\n",
      "Loading 2016 (47/55)...\n",
      "Loading 2017 (48/55)...\n",
      "Loading 2018 (49/55)...\n",
      "Loading 2019 (50/55)...\n",
      "Loading 2020 (51/55)...\n",
      "Loading 2021 (52/55)...\n",
      "Loading 2022 (53/55)...\n",
      "Loading 2023 (54/55)...\n",
      "Loading 2024 (55/55)...\n"
     ]
    },
    {
     "name": "stderr",
     "output_type": "stream",
     "text": [
      "/var/folders/m4/8tn_t7fn3n999rq0tn3djx1w0000gn/T/ipykernel_73976/197102795.py:24: FutureWarning: The behavior of DataFrame concatenation with empty or all-NA entries is deprecated. In a future version, this will no longer exclude empty or all-NA columns when determining the result dtypes. To retain the old behavior, exclude the relevant entries before the concat operation.\n",
      "  df_fedfunds = pd.concat(df_list, ignore_index=True)\n"
     ]
    },
    {
     "data": {
      "text/html": [
       "<div>\n",
       "<style scoped>\n",
       "    .dataframe tbody tr th:only-of-type {\n",
       "        vertical-align: middle;\n",
       "    }\n",
       "\n",
       "    .dataframe tbody tr th {\n",
       "        vertical-align: top;\n",
       "    }\n",
       "\n",
       "    .dataframe thead th {\n",
       "        text-align: right;\n",
       "    }\n",
       "</style>\n",
       "<table border=\"1\" class=\"dataframe\">\n",
       "  <thead>\n",
       "    <tr style=\"text-align: right;\">\n",
       "      <th></th>\n",
       "      <th>date</th>\n",
       "      <th>dff</th>\n",
       "      <th>effr</th>\n",
       "      <th>fed_funds_rate</th>\n",
       "    </tr>\n",
       "  </thead>\n",
       "  <tbody>\n",
       "    <tr>\n",
       "      <th>0</th>\n",
       "      <td>1970-01-01</td>\n",
       "      <td>5.0</td>\n",
       "      <td>&lt;NA&gt;</td>\n",
       "      <td>5.0</td>\n",
       "    </tr>\n",
       "    <tr>\n",
       "      <th>1</th>\n",
       "      <td>1970-01-02</td>\n",
       "      <td>9.63</td>\n",
       "      <td>&lt;NA&gt;</td>\n",
       "      <td>9.63</td>\n",
       "    </tr>\n",
       "    <tr>\n",
       "      <th>2</th>\n",
       "      <td>1970-01-03</td>\n",
       "      <td>9.63</td>\n",
       "      <td>&lt;NA&gt;</td>\n",
       "      <td>9.63</td>\n",
       "    </tr>\n",
       "    <tr>\n",
       "      <th>3</th>\n",
       "      <td>1970-01-04</td>\n",
       "      <td>9.63</td>\n",
       "      <td>&lt;NA&gt;</td>\n",
       "      <td>9.63</td>\n",
       "    </tr>\n",
       "    <tr>\n",
       "      <th>4</th>\n",
       "      <td>1970-01-05</td>\n",
       "      <td>9.75</td>\n",
       "      <td>&lt;NA&gt;</td>\n",
       "      <td>9.75</td>\n",
       "    </tr>\n",
       "    <tr>\n",
       "      <th>...</th>\n",
       "      <td>...</td>\n",
       "      <td>...</td>\n",
       "      <td>...</td>\n",
       "      <td>...</td>\n",
       "    </tr>\n",
       "    <tr>\n",
       "      <th>20084</th>\n",
       "      <td>2024-12-27</td>\n",
       "      <td>4.33</td>\n",
       "      <td>4.33</td>\n",
       "      <td>4.33</td>\n",
       "    </tr>\n",
       "    <tr>\n",
       "      <th>20085</th>\n",
       "      <td>2024-12-28</td>\n",
       "      <td>4.33</td>\n",
       "      <td>&lt;NA&gt;</td>\n",
       "      <td>4.33</td>\n",
       "    </tr>\n",
       "    <tr>\n",
       "      <th>20086</th>\n",
       "      <td>2024-12-29</td>\n",
       "      <td>4.33</td>\n",
       "      <td>&lt;NA&gt;</td>\n",
       "      <td>4.33</td>\n",
       "    </tr>\n",
       "    <tr>\n",
       "      <th>20087</th>\n",
       "      <td>2024-12-30</td>\n",
       "      <td>4.33</td>\n",
       "      <td>4.33</td>\n",
       "      <td>4.33</td>\n",
       "    </tr>\n",
       "    <tr>\n",
       "      <th>20088</th>\n",
       "      <td>2024-12-31</td>\n",
       "      <td>4.33</td>\n",
       "      <td>4.33</td>\n",
       "      <td>4.33</td>\n",
       "    </tr>\n",
       "  </tbody>\n",
       "</table>\n",
       "<p>20089 rows × 4 columns</p>\n",
       "</div>"
      ],
      "text/plain": [
       "            date   dff  effr  fed_funds_rate\n",
       "0     1970-01-01   5.0  <NA>             5.0\n",
       "1     1970-01-02  9.63  <NA>            9.63\n",
       "2     1970-01-03  9.63  <NA>            9.63\n",
       "3     1970-01-04  9.63  <NA>            9.63\n",
       "4     1970-01-05  9.75  <NA>            9.75\n",
       "...          ...   ...   ...             ...\n",
       "20084 2024-12-27  4.33  4.33            4.33\n",
       "20085 2024-12-28  4.33  <NA>            4.33\n",
       "20086 2024-12-29  4.33  <NA>            4.33\n",
       "20087 2024-12-30  4.33  4.33            4.33\n",
       "20088 2024-12-31  4.33  4.33            4.33\n",
       "\n",
       "[20089 rows x 4 columns]"
      ]
     },
     "execution_count": 3,
     "metadata": {},
     "output_type": "execute_result"
    }
   ],
   "source": [
    "years = list(range(1970, 2025))\n",
    "df_list = []\n",
    "\n",
    "for i, year in enumerate(years):\n",
    "    print(f\"Loading {year} ({i+1}/{len(years)})...\")\n",
    "\n",
    "    start_date = f\"{year}-01-01\"\n",
    "    end_date = f\"{year}-12-31\"\n",
    "\n",
    "    query = f\"\"\"\n",
    "        SELECT \n",
    "            date,\n",
    "            dff,\n",
    "            effr\n",
    "        FROM frb.rates_daily\n",
    "        WHERE date BETWEEN '{start_date}' AND '{end_date}'\n",
    "              AND (dff IS NOT NULL OR effr IS NOT NULL)\n",
    "        ORDER BY date\n",
    "    \"\"\"\n",
    "\n",
    "    df_year = conn.raw_sql(query, date_cols=['date'])\n",
    "    df_list.append(df_year)\n",
    "\n",
    "df_fedfunds = pd.concat(df_list, ignore_index=True)\n",
    "df_fedfunds['fed_funds_rate'] = df_fedfunds['effr'].fillna(df_fedfunds['dff'])\n",
    "\n",
    "df_fedfunds"
   ]
  },
  {
   "cell_type": "code",
   "execution_count": 4,
   "id": "839a378c-de35-4f8e-b1cd-40e46b752bb3",
   "metadata": {},
   "outputs": [],
   "source": [
    "df_fedfunds[['date', 'fed_funds_rate']].to_csv('fed_rates.csv', index = False)"
   ]
  },
  {
   "cell_type": "code",
   "execution_count": null,
   "id": "fe5c4bad-50ad-4ee0-9850-cf494933e0e3",
   "metadata": {},
   "outputs": [],
   "source": []
  }
 ],
 "metadata": {
  "kernelspec": {
   "display_name": "Python (myenv)",
   "language": "python",
   "name": "myenv"
  },
  "language_info": {
   "codemirror_mode": {
    "name": "ipython",
    "version": 3
   },
   "file_extension": ".py",
   "mimetype": "text/x-python",
   "name": "python",
   "nbconvert_exporter": "python",
   "pygments_lexer": "ipython3",
   "version": "3.13.2"
  }
 },
 "nbformat": 4,
 "nbformat_minor": 5
}
